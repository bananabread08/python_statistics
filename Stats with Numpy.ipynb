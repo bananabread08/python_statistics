{
 "cells": [
  {
   "cell_type": "markdown",
   "id": "d82a86a1",
   "metadata": {},
   "source": [
    "## Python Review"
   ]
  },
  {
   "cell_type": "markdown",
   "id": "54a7bf4d",
   "metadata": {},
   "source": [
    "## Functions"
   ]
  },
  {
   "cell_type": "markdown",
   "id": "f2230cdf",
   "metadata": {},
   "source": [
    "### Function that retrieves the Mean of an Array"
   ]
  },
  {
   "cell_type": "code",
   "execution_count": 10,
   "id": "c9fc26b8",
   "metadata": {},
   "outputs": [
    {
     "name": "stdout",
     "output_type": "stream",
     "text": [
      "The mean of the data is 3.5.\n"
     ]
    }
   ],
   "source": [
    "def get_mean(list):\n",
    "    return print(f\"The mean of the data is {sum(list) / len(list)}.\")\n",
    "\n",
    "list = [1,2,3,4,5,6]\n",
    "get_mean(list)\n",
    "    "
   ]
  },
  {
   "cell_type": "markdown",
   "id": "463dd87c",
   "metadata": {},
   "source": [
    "### Arrays"
   ]
  },
  {
   "cell_type": "markdown",
   "id": "83c75226",
   "metadata": {},
   "source": [
    "THis how to get a sample data from a population and use it to get Variance and Standard Deviation."
   ]
  },
  {
   "cell_type": "code",
   "execution_count": 4,
   "id": "0b810665",
   "metadata": {
    "scrolled": true
   },
   "outputs": [
    {
     "name": "stdout",
     "output_type": "stream",
     "text": [
      "array('i', [1, 2, 3, 4, 5, 6])\n",
      "[1, 2, 3, 4, 5, 6, 7]\n"
     ]
    }
   ],
   "source": [
    "import array as arr\n",
    "\n",
    "list = [1,2,3,4,5,6,7]\n",
    "data = arr.array('i', list)\n",
    "print(data[0:6])\n",
    "print(data.tolist()) # use this sample data\n"
   ]
  },
  {
   "cell_type": "markdown",
   "id": "e6c3273d",
   "metadata": {},
   "source": [
    "## Exercise"
   ]
  },
  {
   "cell_type": "code",
   "execution_count": 15,
   "id": "11bf5fb5",
   "metadata": {},
   "outputs": [
    {
     "name": "stdout",
     "output_type": "stream",
     "text": [
      "mean: 85.75\n",
      "median: 86.0\n",
      "mode: 85\n"
     ]
    }
   ],
   "source": [
    "import statistics as stat\n",
    "list = [89, 90, 91, 90 ,85, 91, 88, 80, 77, 81, 76, 85, 87, 88, 83, 95, 88, 82, 85, 84]\n",
    "print(f\"mean: {stat.mean(list)}\")\n",
    "print(f\"median: {stat.median(list)}\")\n",
    "print(f\"mode: {stat.mode(list)}\")"
   ]
  },
  {
   "cell_type": "markdown",
   "id": "efe4e365",
   "metadata": {},
   "source": [
    "### Using Numpy and Scipy for statistics"
   ]
  },
  {
   "cell_type": "code",
   "execution_count": 7,
   "id": "50e76b58",
   "metadata": {},
   "outputs": [
    {
     "name": "stdout",
     "output_type": "stream",
     "text": [
      "mean: 151.3\n",
      "median: 157.0\n",
      "mode: ModeResult(mode=array([103]), count=array([1]))\n",
      "variance: 894.81\n",
      "standard dev: 29.91\n",
      "range: 85\n"
     ]
    }
   ],
   "source": [
    "import numpy as np\n",
    "from scipy import stats\n",
    "\n",
    "list = [103, 151, 176, 188 ,146, 184, 175, 112, 115, 163]\n",
    "# range = max(list) - min(list)\n",
    "\n",
    "print(\"mean:\", np.mean(list))\n",
    "print(\"median:\", np.median(list))\n",
    "print(\"mode:\", stats.mode(list))\n",
    "print(\"variance:\", round(np.var(list),2))\n",
    "print(\"standard dev:\", round(np.std(list),2))\n",
    "print(\"range:\", np.ptp(list))\n"
   ]
  },
  {
   "cell_type": "code",
   "execution_count": null,
   "id": "45886206",
   "metadata": {},
   "outputs": [],
   "source": []
  },
  {
   "cell_type": "code",
   "execution_count": null,
   "id": "03232e78",
   "metadata": {},
   "outputs": [],
   "source": []
  }
 ],
 "metadata": {
  "kernelspec": {
   "display_name": "Python 3 (ipykernel)",
   "language": "python",
   "name": "python3"
  },
  "language_info": {
   "codemirror_mode": {
    "name": "ipython",
    "version": 3
   },
   "file_extension": ".py",
   "mimetype": "text/x-python",
   "name": "python",
   "nbconvert_exporter": "python",
   "pygments_lexer": "ipython3",
   "version": "3.9.7"
  }
 },
 "nbformat": 4,
 "nbformat_minor": 5
}
