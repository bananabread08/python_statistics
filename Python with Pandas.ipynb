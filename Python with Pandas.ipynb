{
 "cells": [
  {
   "cell_type": "markdown",
   "id": "313f6f16",
   "metadata": {},
   "source": [
    "# Python: Statistics using Pandas"
   ]
  },
  {
   "cell_type": "code",
   "execution_count": 2,
   "id": "99d21f84",
   "metadata": {},
   "outputs": [
    {
     "name": "stdout",
     "output_type": "stream",
     "text": [
      "count    25.000000\n",
      "mean      5.760000\n",
      "std       2.314447\n",
      "min       2.000000\n",
      "25%       4.000000\n",
      "50%       5.000000\n",
      "75%       8.000000\n",
      "max      10.000000\n",
      "dtype: float64\n"
     ]
    }
   ],
   "source": [
    "import pandas as pd\n",
    "\n",
    "sample_data = [5, 4 , 3, 5, 8, 2, 5, 2, 5 , 8 , 10, 8, 7, 9, 10 , 5, 7, 5, 7, 5, 4,3,5,8,4 ]\n",
    "ser = pd.Series(sample_data)\n",
    "summary = ser.describe()\n",
    "print(summary)"
   ]
  },
  {
   "cell_type": "markdown",
   "id": "0078ea81",
   "metadata": {},
   "source": [
    "Pandas default std computation uses **sample**\n",
    "To find std of population, used `.std(ddof=0)`"
   ]
  },
  {
   "cell_type": "code",
   "execution_count": 3,
   "id": "2451e63d",
   "metadata": {},
   "outputs": [
    {
     "name": "stdout",
     "output_type": "stream",
     "text": [
      "2.267686045289339\n"
     ]
    }
   ],
   "source": [
    "import pandas as pd\n",
    "\n",
    "sample_data = [5, 4 , 3, 5, 8, 2, 5, 2, 5 , 8 , 10, 8, 7, 9, 10 , 5, 7, 5, 7, 5, 4,3,5,8,4 ]\n",
    "ser = pd.Series(sample_data)\n",
    "print(ser.std(ddof=0))"
   ]
  },
  {
   "cell_type": "code",
   "execution_count": null,
   "id": "faf4ad4d",
   "metadata": {},
   "outputs": [],
   "source": []
  }
 ],
 "metadata": {
  "kernelspec": {
   "display_name": "Python 3 (ipykernel)",
   "language": "python",
   "name": "python3"
  },
  "language_info": {
   "codemirror_mode": {
    "name": "ipython",
    "version": 3
   },
   "file_extension": ".py",
   "mimetype": "text/x-python",
   "name": "python",
   "nbconvert_exporter": "python",
   "pygments_lexer": "ipython3",
   "version": "3.9.7"
  }
 },
 "nbformat": 4,
 "nbformat_minor": 5
}
